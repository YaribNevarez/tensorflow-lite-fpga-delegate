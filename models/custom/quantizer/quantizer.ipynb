{
 "cells": [
  {
   "cell_type": "code",
   "execution_count": 2,
   "metadata": {},
   "outputs": [
    {
     "name": "stderr",
     "output_type": "stream",
     "text": [
      "2021-11-04 23:42:25.823256: W tensorflow/stream_executor/platform/default/dso_loader.cc:59] Could not load dynamic library 'libcudart.so.10.1'; dlerror: libcudart.so.10.1: cannot open shared object file: No such file or directory\n",
      "2021-11-04 23:42:25.823287: I tensorflow/stream_executor/cuda/cudart_stub.cc:29] Ignore above cudart dlerror if you do not have a GPU set up on your machine.\n"
     ]
    }
   ],
   "source": [
    "import sys\n",
    "from matplotlib import pyplot\n",
    "from tensorflow.keras.datasets import cifar10\n",
    "from tensorflow.keras.utils import to_categorical\n",
    "from tensorflow.keras.models import Sequential\n",
    "from tensorflow.keras.layers import Conv2D\n",
    "from tensorflow.keras.layers import SeparableConv2D\n",
    "from tensorflow.keras.layers import BatchNormalization\n",
    "from tensorflow.keras.layers import MaxPooling2D\n",
    "from tensorflow.keras.layers import Dense\n",
    "from tensorflow.keras.layers import Dropout\n",
    "from tensorflow.keras.layers import Flatten\n",
    "from tensorflow.keras.optimizers import SGD\n",
    "import numpy as np\n",
    "import tensorflow as tf\n",
    "from tensorflow import keras\n",
    "from tensorflow.keras import layers\n",
    "import os\n",
    "import math\n",
    "from tensorflow.keras.callbacks import EarlyStopping"
   ]
  },
  {
   "cell_type": "code",
   "execution_count": 3,
   "metadata": {},
   "outputs": [],
   "source": [
    "import struct\n",
    "\n",
    "def bin2float(b):\n",
    "    ''' Convert binary string to a float.\n",
    "\n",
    "    Attributes:\n",
    "        :b: Binary string to transform.\n",
    "    '''\n",
    "    h = int(b, 2).to_bytes(8, byteorder=\"big\")\n",
    "    return struct.unpack('>d', h)[0]\n",
    "\n",
    "\n",
    "def float2bin(f):\n",
    "    ''' Convert float to 64-bit binary string.\n",
    "\n",
    "    Attributes:\n",
    "        :f: Float number to transform.\n",
    "    '''\n",
    "    [d] = struct.unpack(\">Q\", struct.pack(\">d\", f))\n",
    "    return f'{d:064b}'"
   ]
  },
  {
   "cell_type": "code",
   "execution_count": 11,
   "metadata": {},
   "outputs": [],
   "source": [
    "def quantize_float (float_number, exponent_bits, mantissa_bits):\n",
    "    exponent_sign = 1\n",
    "    \n",
    "    if mantissa_bits < 0:\n",
    "      mantissa_bits = 0\n",
    "    if exponent_bits < 0:\n",
    "      exponent_bits = 0\n",
    "      \n",
    "    coefficient = float2bin(float_number)\n",
    "    sign = int (coefficient[:1], 2)\n",
    "    if 0 < mantissa_bits:\n",
    "        custom_mantissa = int (coefficient[12 : 12 + mantissa_bits], 2)\n",
    "    else:\n",
    "        custom_mantissa = 0\n",
    "    residual_mantissa = int (coefficient[12 + mantissa_bits:], 2)\n",
    "    exponent = int (coefficient[1:12], 2) - 1023\n",
    "\n",
    "    exponent_full_range = pow(2, exponent_bits - exponent_sign) - 1\n",
    "    if exponent < - exponent_full_range:\n",
    "        quantized_value = 0\n",
    "    elif exponent > exponent_full_range:\n",
    "        quantized_value = pow(-1, sign) * (1 + (1 - pow(2, - mantissa_bits))) * pow(2, exponent_full_range)\n",
    "    else:\n",
    "        if (pow (2, (52 - (mantissa_bits + 1))) - 1) < residual_mantissa:\n",
    "            custom_mantissa += 1\n",
    "            if (pow (2, mantissa_bits) - 1) < custom_mantissa:\n",
    "                custom_mantissa = 0\n",
    "                exponent += 1\n",
    "    \n",
    "        quantized_value = pow(-1, sign) * (1 + custom_mantissa * pow(2, - mantissa_bits)) * pow(2, exponent)\n",
    "    return quantized_value"
   ]
  },
  {
   "cell_type": "markdown",
   "metadata": {},
   "source": [
    "You can test here the quantizer"
   ]
  },
  {
   "cell_type": "code",
   "execution_count": 23,
   "metadata": {},
   "outputs": [
    {
     "name": "stdout",
     "output_type": "stream",
     "text": [
      "___ Quantizer test ___\n",
      "Double float value = 65536.0, exponent_bits = 5, mantissa bit size = 4, quantized value = 63488.0\n"
     ]
    }
   ],
   "source": [
    "float_number = 65536.0\n",
    "mantissa_bits = 4\n",
    "exponent_bits = 5\n",
    "print (\"___ Quantizer test ___\")\n",
    "print (\"Double float value = {}, exponent_bits = {}, mantissa bit size = {}, quantized value = {}\".format(float_number, exponent_bits, mantissa_bits, quantize_float(float_number, exponent_bits, mantissa_bits)))"
   ]
  }
 ],
 "metadata": {
  "interpreter": {
   "hash": "3ba63467901cd6d3991f497c38810e6d1156dd2dfb6eb0edc80f01dd9606bacd"
  },
  "kernelspec": {
   "display_name": "Python 3.8.8 64-bit ('base': conda)",
   "name": "python3"
  },
  "language_info": {
   "codemirror_mode": {
    "name": "ipython",
    "version": 3
   },
   "file_extension": ".py",
   "mimetype": "text/x-python",
   "name": "python",
   "nbconvert_exporter": "python",
   "pygments_lexer": "ipython3",
   "version": "3.8.8"
  },
  "orig_nbformat": 4
 },
 "nbformat": 4,
 "nbformat_minor": 2
}
